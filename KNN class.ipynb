{
 "cells": [
  {
   "cell_type": "code",
   "execution_count": 2,
   "metadata": {},
   "outputs": [],
   "source": [
    "import re\n",
    "import numpy as np\n",
    "import pandas as pd\n",
    "import matplotlib.pyplot as plt\n",
    "import scipy\n",
    "%matplotlib inline"
   ]
  },
  {
   "cell_type": "code",
   "execution_count": 23,
   "metadata": {},
   "outputs": [
    {
     "data": {
      "text/html": [
       "<div>\n",
       "<style scoped>\n",
       "    .dataframe tbody tr th:only-of-type {\n",
       "        vertical-align: middle;\n",
       "    }\n",
       "\n",
       "    .dataframe tbody tr th {\n",
       "        vertical-align: top;\n",
       "    }\n",
       "\n",
       "    .dataframe thead th {\n",
       "        text-align: right;\n",
       "    }\n",
       "</style>\n",
       "<table border=\"1\" class=\"dataframe\">\n",
       "  <thead>\n",
       "    <tr style=\"text-align: right;\">\n",
       "      <th></th>\n",
       "      <th>target</th>\n",
       "      <th>input_1</th>\n",
       "      <th>input_2</th>\n",
       "    </tr>\n",
       "  </thead>\n",
       "  <tbody>\n",
       "    <tr>\n",
       "      <td>0</td>\n",
       "      <td>8</td>\n",
       "      <td>10</td>\n",
       "      <td>196</td>\n",
       "    </tr>\n",
       "    <tr>\n",
       "      <td>1</td>\n",
       "      <td>9</td>\n",
       "      <td>8</td>\n",
       "      <td>208</td>\n",
       "    </tr>\n",
       "    <tr>\n",
       "      <td>2</td>\n",
       "      <td>9</td>\n",
       "      <td>10</td>\n",
       "      <td>212</td>\n",
       "    </tr>\n",
       "    <tr>\n",
       "      <td>3</td>\n",
       "      <td>9</td>\n",
       "      <td>9</td>\n",
       "      <td>192</td>\n",
       "    </tr>\n",
       "    <tr>\n",
       "      <td>4</td>\n",
       "      <td>5</td>\n",
       "      <td>8</td>\n",
       "      <td>216</td>\n",
       "    </tr>\n",
       "    <tr>\n",
       "      <td>5</td>\n",
       "      <td>8</td>\n",
       "      <td>10</td>\n",
       "      <td>198</td>\n",
       "    </tr>\n",
       "    <tr>\n",
       "      <td>6</td>\n",
       "      <td>7</td>\n",
       "      <td>10</td>\n",
       "      <td>195</td>\n",
       "    </tr>\n",
       "    <tr>\n",
       "      <td>7</td>\n",
       "      <td>4</td>\n",
       "      <td>9</td>\n",
       "      <td>201</td>\n",
       "    </tr>\n",
       "    <tr>\n",
       "      <td>8</td>\n",
       "      <td>6</td>\n",
       "      <td>8</td>\n",
       "      <td>190</td>\n",
       "    </tr>\n",
       "    <tr>\n",
       "      <td>9</td>\n",
       "      <td>6</td>\n",
       "      <td>9</td>\n",
       "      <td>202</td>\n",
       "    </tr>\n",
       "  </tbody>\n",
       "</table>\n",
       "</div>"
      ],
      "text/plain": [
       "   target  input_1  input_2\n",
       "0       8       10      196\n",
       "1       9        8      208\n",
       "2       9       10      212\n",
       "3       9        9      192\n",
       "4       5        8      216\n",
       "5       8       10      198\n",
       "6       7       10      195\n",
       "7       4        9      201\n",
       "8       6        8      190\n",
       "9       6        9      202"
      ]
     },
     "execution_count": 23,
     "metadata": {},
     "output_type": "execute_result"
    }
   ],
   "source": [
    "df_ = pd.DataFrame()\n",
    "\n",
    "df_['target'] = np.random.randint(1,10,10)\n",
    "df_['input_1'] = np.random.randint(8,11,10)\n",
    "df_['input_2'] = np.random.randint(189,220,10); \n",
    "\n",
    "df_"
   ]
  },
  {
   "cell_type": "code",
   "execution_count": 24,
   "metadata": {},
   "outputs": [
    {
     "data": {
      "text/plain": [
       "KNeighborsClassifier(algorithm='auto', leaf_size=30, metric='minkowski',\n",
       "                     metric_params=None, n_jobs=None, n_neighbors=1, p=2,\n",
       "                     weights='uniform')"
      ]
     },
     "execution_count": 24,
     "metadata": {},
     "output_type": "execute_result"
    }
   ],
   "source": [
    "from sklearn.neighbors import KNeighborsClassifier\n",
    "neighbors = KNeighborsClassifier(n_neighbors=1)\n",
    "\n",
    "X = df_[['input_1', 'input_2']]\n",
    "Y = df_.target\n",
    "neighbors.fit(X,Y)"
   ]
  },
  {
   "cell_type": "code",
   "execution_count": 29,
   "metadata": {},
   "outputs": [
    {
     "data": {
      "image/png": "[encoded data removed]",
      "text/plain": [
       "<Figure size 576x576 with 1 Axes>"
      ]
     },
     "metadata": {
      "needs_background": "light"
     },
     "output_type": "display_data"
    }
   ],
   "source": [
    "# Our data. Converting from data frames to arrays for the mesh.\n",
    "X = np.array(X)\n",
    "Y = np.array(Y)\n",
    "\n",
    "# Mesh size.\n",
    "h = 1.0\n",
    "\n",
    "# Plot the decision boundary. We assign a color to each point in the mesh.\n",
    "x_min = X[:, 0].min() - .5\n",
    "x_max = X[:, 0].max() + .5\n",
    "y_min = X[:, 1].min() - .5\n",
    "y_max = X[:, 1].max() + .5\n",
    "xx, yy = np.meshgrid(\n",
    "    np.arange(x_min, x_max, h),\n",
    "    np.arange(y_min, y_max, h)\n",
    ")\n",
    "Z = neighbors.predict(np.c_[xx.ravel(), yy.ravel()])\n",
    "\n",
    "# Put the result into a color plot.\n",
    "Z = Z.reshape(xx.shape)\n",
    "plt.figure(1, figsize=(8, 8))\n",
    "plt.set_cmap(plt.cm.Paired)\n",
    "plt.pcolormesh(xx, yy, Z)\n",
    "\n",
    "# Add the training points to the plot.\n",
    "plt.scatter(X[:, 0], X[:, 1], c=Y)\n",
    "plt.xlabel('Hand size')\n",
    "plt.ylabel('weight')\n",
    "plt.title('Mesh visualization')\n",
    "\n",
    "plt.xlim(xx.min(), xx.max())\n",
    "plt.ylim(yy.min(), yy.max())\n",
    "\n",
    "plt.show()"
   ]
  },
  {
   "cell_type": "code",
   "execution_count": 22,
   "metadata": {},
   "outputs": [
    {
     "data": {
      "text/plain": [
       "[array([[ 9.5, 13.5, 17.5],\n",
       "        [ 9.5, 13.5, 17.5],\n",
       "        [ 9.5, 13.5, 17.5],\n",
       "        [ 9.5, 13.5, 17.5],\n",
       "        [ 9.5, 13.5, 17.5],\n",
       "        [ 9.5, 13.5, 17.5],\n",
       "        [ 9.5, 13.5, 17.5],\n",
       "        [ 9.5, 13.5, 17.5]]), array([[189.5, 189.5, 189.5],\n",
       "        [193.5, 193.5, 193.5],\n",
       "        [197.5, 197.5, 197.5],\n",
       "        [201.5, 201.5, 201.5],\n",
       "        [205.5, 205.5, 205.5],\n",
       "        [209.5, 209.5, 209.5],\n",
       "        [213.5, 213.5, 213.5],\n",
       "        [217.5, 217.5, 217.5]])]"
      ]
     },
     "execution_count": 22,
     "metadata": {},
     "output_type": "execute_result"
    }
   ],
   "source": [
    "np.meshgrid(\n",
    "    np.arange(x_min, x_max, h),\n",
    "    np.arange(y_min, y_max, h)\n",
    ")"
   ]
  },
  {
   "cell_type": "code",
   "execution_count": 31,
   "metadata": {},
   "outputs": [
    {
     "data": {
      "text/plain": [
       "[array([[7.5, 8.5, 9.5],\n",
       "        [7.5, 8.5, 9.5],\n",
       "        [7.5, 8.5, 9.5],\n",
       "        [7.5, 8.5, 9.5],\n",
       "        [7.5, 8.5, 9.5],\n",
       "        [7.5, 8.5, 9.5],\n",
       "        [7.5, 8.5, 9.5],\n",
       "        [7.5, 8.5, 9.5],\n",
       "        [7.5, 8.5, 9.5],\n",
       "        [7.5, 8.5, 9.5],\n",
       "        [7.5, 8.5, 9.5],\n",
       "        [7.5, 8.5, 9.5],\n",
       "        [7.5, 8.5, 9.5],\n",
       "        [7.5, 8.5, 9.5],\n",
       "        [7.5, 8.5, 9.5],\n",
       "        [7.5, 8.5, 9.5],\n",
       "        [7.5, 8.5, 9.5],\n",
       "        [7.5, 8.5, 9.5],\n",
       "        [7.5, 8.5, 9.5],\n",
       "        [7.5, 8.5, 9.5],\n",
       "        [7.5, 8.5, 9.5],\n",
       "        [7.5, 8.5, 9.5],\n",
       "        [7.5, 8.5, 9.5],\n",
       "        [7.5, 8.5, 9.5],\n",
       "        [7.5, 8.5, 9.5],\n",
       "        [7.5, 8.5, 9.5],\n",
       "        [7.5, 8.5, 9.5]]), array([[189.5, 189.5, 189.5],\n",
       "        [190.5, 190.5, 190.5],\n",
       "        [191.5, 191.5, 191.5],\n",
       "        [192.5, 192.5, 192.5],\n",
       "        [193.5, 193.5, 193.5],\n",
       "        [194.5, 194.5, 194.5],\n",
       "        [195.5, 195.5, 195.5],\n",
       "        [196.5, 196.5, 196.5],\n",
       "        [197.5, 197.5, 197.5],\n",
       "        [198.5, 198.5, 198.5],\n",
       "        [199.5, 199.5, 199.5],\n",
       "        [200.5, 200.5, 200.5],\n",
       "        [201.5, 201.5, 201.5],\n",
       "        [202.5, 202.5, 202.5],\n",
       "        [203.5, 203.5, 203.5],\n",
       "        [204.5, 204.5, 204.5],\n",
       "        [205.5, 205.5, 205.5],\n",
       "        [206.5, 206.5, 206.5],\n",
       "        [207.5, 207.5, 207.5],\n",
       "        [208.5, 208.5, 208.5],\n",
       "        [209.5, 209.5, 209.5],\n",
       "        [210.5, 210.5, 210.5],\n",
       "        [211.5, 211.5, 211.5],\n",
       "        [212.5, 212.5, 212.5],\n",
       "        [213.5, 213.5, 213.5],\n",
       "        [214.5, 214.5, 214.5],\n",
       "        [215.5, 215.5, 215.5]])]"
      ]
     },
     "execution_count": 31,
     "metadata": {},
     "output_type": "execute_result"
    }
   ],
   "source": [
    "np.meshgrid(\n",
    "    np.arange(x_min, x_max, h),\n",
    "    np.arange(y_min, y_max, h)\n",
    ")"
   ]
  },
  {
   "cell_type": "code",
   "execution_count": 30,
   "metadata": {},
   "outputs": [
    {
     "data": {
      "text/plain": [
       "array([ 7.5,  8. ,  8.5,  9. ,  9.5, 10. ])"
      ]
     },
     "execution_count": 30,
     "metadata": {},
     "output_type": "execute_result"
    }
   ],
   "source": [
    "np.arange(x_min, x_max, 0.5)"
   ]
  },
  {
   "cell_type": "code",
   "execution_count": null,
   "metadata": {},
   "outputs": [],
   "source": []
  }
 ],
 "metadata": {
  "kernelspec": {
   "display_name": "Python (fast_ai)",
   "language": "python",
   "name": "fast_ai"
  },
  "language_info": {
   "codemirror_mode": {
    "name": "ipython",
    "version": 3
   },
   "file_extension": ".py",
   "mimetype": "text/x-python",
   "name": "python",
   "nbconvert_exporter": "python",
   "pygments_lexer": "ipython3",
   "version": "3.7.3"
  }
 },
 "nbformat": 4,
 "nbformat_minor": 2
}
