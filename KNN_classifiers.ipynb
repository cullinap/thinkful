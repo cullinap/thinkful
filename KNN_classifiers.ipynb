{
 "cells": [
  {
   "cell_type": "code",
   "execution_count": 6,
   "metadata": {},
   "outputs": [],
   "source": [
    "import re\n",
    "import numpy as np\n",
    "import pandas as pd\n",
    "import matplotlib.pyplot as plt\n",
    "import scipy\n",
    "%matplotlib inline"
   ]
  },
  {
   "cell_type": "markdown",
   "metadata": {},
   "source": [
    "##### Scrape football player names from espn with their touchdowns from 2018"
   ]
  },
  {
   "cell_type": "code",
   "execution_count": 7,
   "metadata": {},
   "outputs": [],
   "source": [
    "import requests\n",
    "url = 'https://www.espn.com/nfl/stats/player/_/stat/receiving/season/2018/seasontype/2/table/receiving/sort/receivingYards/dir/desc'\n",
    "page = requests.get(url)\n",
    "\n",
    "from bs4 import BeautifulSoup\n",
    "soup = BeautifulSoup(page.content, 'html.parser')"
   ]
  },
  {
   "cell_type": "code",
   "execution_count": 8,
   "metadata": {
    "scrolled": false
   },
   "outputs": [],
   "source": [
    "#print(soup.prettify())\n",
    "table_data = soup.find('section', class_=\"ResponsiveTable ResponsiveTable--fixed-left mt4 Table2__title--remove-capitalization\")\n",
    "names = table_data.findAll('a', class_='AnchorLink')"
   ]
  },
  {
   "cell_type": "markdown",
   "metadata": {},
   "source": [
    "##### Gather the names, hand size, and weights"
   ]
  },
  {
   "cell_type": "code",
   "execution_count": 9,
   "metadata": {},
   "outputs": [],
   "source": [
    "regex = r'(?<=\\\">).*[a-zA-Z](?=\\<)'\n",
    "players = [re.search(regex,str(names[i]))[0] for i in range(15)]\n",
    "wr = 14 #number of wide-receivers\n",
    "touch_down = [re.findall(r'\\d{1,4}',str(table_data.find_all('tr')[i]))[8] \n",
    "                                                          for i in range(52,52+wr)]\n",
    "hand_size = [9.75, 10, 9.625, 9, 10.5, 10.5, 9, 9, 9.625, 9, 8.5, 9.25, 9.625]\n",
    "weight = [220, 214, 225, 185, 216, 203, 216, 249, 201, 260, 186, 183, 194]"
   ]
  },
  {
   "cell_type": "code",
   "execution_count": 43,
   "metadata": {},
   "outputs": [
    {
     "data": {
      "text/html": [
       "<div>\n",
       "<style scoped>\n",
       "    .dataframe tbody tr th:only-of-type {\n",
       "        vertical-align: middle;\n",
       "    }\n",
       "\n",
       "    .dataframe tbody tr th {\n",
       "        vertical-align: top;\n",
       "    }\n",
       "\n",
       "    .dataframe thead th {\n",
       "        text-align: right;\n",
       "    }\n",
       "</style>\n",
       "<table border=\"1\" class=\"dataframe\">\n",
       "  <thead>\n",
       "    <tr style=\"text-align: right;\">\n",
       "      <th></th>\n",
       "      <th>Name</th>\n",
       "      <th>touchdowns</th>\n",
       "      <th>hand_size</th>\n",
       "      <th>weight</th>\n",
       "    </tr>\n",
       "  </thead>\n",
       "  <tbody>\n",
       "    <tr>\n",
       "      <td>0</td>\n",
       "      <td>Julio Jones</td>\n",
       "      <td>8</td>\n",
       "      <td>9.750</td>\n",
       "      <td>2.342423</td>\n",
       "    </tr>\n",
       "    <tr>\n",
       "      <td>1</td>\n",
       "      <td>DeAndre Hopkins</td>\n",
       "      <td>11</td>\n",
       "      <td>10.000</td>\n",
       "      <td>2.330414</td>\n",
       "    </tr>\n",
       "    <tr>\n",
       "      <td>2</td>\n",
       "      <td>Mike Evans</td>\n",
       "      <td>8</td>\n",
       "      <td>9.625</td>\n",
       "      <td>2.352183</td>\n",
       "    </tr>\n",
       "    <tr>\n",
       "      <td>3</td>\n",
       "      <td>Tyreek Hill</td>\n",
       "      <td>12</td>\n",
       "      <td>9.000</td>\n",
       "      <td>2.267172</td>\n",
       "    </tr>\n",
       "    <tr>\n",
       "      <td>4</td>\n",
       "      <td>JuJu Smith-Schuster</td>\n",
       "      <td>7</td>\n",
       "      <td>10.500</td>\n",
       "      <td>2.334454</td>\n",
       "    </tr>\n",
       "    <tr>\n",
       "      <td>5</td>\n",
       "      <td>Michael Thomas</td>\n",
       "      <td>9</td>\n",
       "      <td>10.500</td>\n",
       "      <td>2.307496</td>\n",
       "    </tr>\n",
       "    <tr>\n",
       "      <td>6</td>\n",
       "      <td>Davante Adams</td>\n",
       "      <td>13</td>\n",
       "      <td>9.000</td>\n",
       "      <td>2.334454</td>\n",
       "    </tr>\n",
       "    <tr>\n",
       "      <td>7</td>\n",
       "      <td>George Kittle</td>\n",
       "      <td>5</td>\n",
       "      <td>9.000</td>\n",
       "      <td>2.396199</td>\n",
       "    </tr>\n",
       "    <tr>\n",
       "      <td>8</td>\n",
       "      <td>Adam Thielen</td>\n",
       "      <td>9</td>\n",
       "      <td>9.625</td>\n",
       "      <td>2.303196</td>\n",
       "    </tr>\n",
       "    <tr>\n",
       "      <td>9</td>\n",
       "      <td>Travis Kelce</td>\n",
       "      <td>10</td>\n",
       "      <td>9.000</td>\n",
       "      <td>2.414973</td>\n",
       "    </tr>\n",
       "    <tr>\n",
       "      <td>10</td>\n",
       "      <td>Antonio Brown</td>\n",
       "      <td>15</td>\n",
       "      <td>8.500</td>\n",
       "      <td>2.269513</td>\n",
       "    </tr>\n",
       "    <tr>\n",
       "      <td>11</td>\n",
       "      <td>T.Y. Hilton</td>\n",
       "      <td>6</td>\n",
       "      <td>9.250</td>\n",
       "      <td>2.262451</td>\n",
       "    </tr>\n",
       "    <tr>\n",
       "      <td>12</td>\n",
       "      <td>Robert Woods</td>\n",
       "      <td>6</td>\n",
       "      <td>9.625</td>\n",
       "      <td>2.287802</td>\n",
       "    </tr>\n",
       "  </tbody>\n",
       "</table>\n",
       "</div>"
      ],
      "text/plain": [
       "                   Name  touchdowns  hand_size    weight\n",
       "0           Julio Jones           8      9.750  2.342423\n",
       "1       DeAndre Hopkins          11     10.000  2.330414\n",
       "2            Mike Evans           8      9.625  2.352183\n",
       "3           Tyreek Hill          12      9.000  2.267172\n",
       "4   JuJu Smith-Schuster           7     10.500  2.334454\n",
       "5        Michael Thomas           9     10.500  2.307496\n",
       "6         Davante Adams          13      9.000  2.334454\n",
       "7         George Kittle           5      9.000  2.396199\n",
       "8          Adam Thielen           9      9.625  2.303196\n",
       "9          Travis Kelce          10      9.000  2.414973\n",
       "10        Antonio Brown          15      8.500  2.269513\n",
       "11          T.Y. Hilton           6      9.250  2.262451\n",
       "12         Robert Woods           6      9.625  2.287802"
      ]
     },
     "execution_count": 43,
     "metadata": {},
     "output_type": "execute_result"
    }
   ],
   "source": [
    "attributes = zip(players,touch_down,hand_size,weight)\n",
    "\n",
    "player_data = {i: player for i,player in enumerate([[player,touchdown,hand_size,weight] \n",
    "                    for player,touchdown,hand_size,weight in (attributes)])\n",
    "        }\n",
    "\n",
    "player_df = pd.DataFrame.from_dict(player_data, orient='index',\n",
    "                         columns=['Name','touchdowns','hand_size','weight'])\n",
    "\n",
    "\n",
    "player_df['touchdowns'] = player_df['touchdowns'].apply(int)\n",
    "player_df['weight'] = player_df['weight'].apply(lambda x: np.log10(x)); \n",
    "\n",
    "player_df"
   ]
  },
  {
   "cell_type": "markdown",
   "metadata": {},
   "source": [
    "##### Run a KNN model"
   ]
  },
  {
   "cell_type": "code",
   "execution_count": 44,
   "metadata": {},
   "outputs": [
    {
     "data": {
      "text/plain": [
       "array([10])"
      ]
     },
     "execution_count": 44,
     "metadata": {},
     "output_type": "execute_result"
    }
   ],
   "source": [
    "from sklearn.neighbors import KNeighborsClassifier\n",
    "neighbors = KNeighborsClassifier(n_neighbors=1)\n",
    "\n",
    "X = player_df[['hand_size', 'weight']]\n",
    "Y = player_df.touchdowns\n",
    "neighbors.fit(X,Y)\n",
    "\n",
    "neighbors.predict([[10.5, 200]])"
   ]
  },
  {
   "cell_type": "markdown",
   "metadata": {},
   "source": [
    "##### Results:\n",
    "\n",
    "For a hypothetical reciever with 10 1/2\" hands and 200 pounds the model predicts he will have 9 touchdowns in a season."
   ]
  },
  {
   "cell_type": "code",
   "execution_count": 67,
   "metadata": {
    "scrolled": false
   },
   "outputs": [
    {
     "data": {
      "image/png": "[encoded data removed]",
      "text/plain": [
       "<Figure size 720x720 with 1 Axes>"
      ]
     },
     "metadata": {
      "needs_background": "light"
     },
     "output_type": "display_data"
    }
   ],
   "source": [
    "# Our data. Converting from data frames to arrays for the mesh.\n",
    "X = np.array(X)\n",
    "Y = np.array(Y)\n",
    "\n",
    "# Mesh size.\n",
    "h = 0.25\n",
    "\n",
    "# Plot the decision boundary. We assign a color to each point in the mesh.\n",
    "x_min = 7 #X[:, 0].min() - .5\n",
    "x_max = 10 #X[:, 0].max() + .5\n",
    "y_min = X[:, 1].min() - .5\n",
    "y_max = X[:, 1].max() + .5\n",
    "xx, yy = np.meshgrid(\n",
    "    np.arange(x_min, x_max, h),\n",
    "    np.arange(y_min, y_max, h)\n",
    ")\n",
    "Z = neighbors.predict(np.c_[xx.ravel(), yy.ravel()])\n",
    "\n",
    "# Put the result into a color plot.\n",
    "Z = Z.reshape(xx.shape)\n",
    "plt.figure(1, figsize=(10, 10))\n",
    "plt.set_cmap(plt.cm.Paired)\n",
    "plt.pcolormesh(xx, yy, Z)\n",
    "\n",
    "# Add the training points to the plot.\n",
    "plt.scatter(X[:, 0], X[:, 1], c=Y)\n",
    "plt.xlabel('Hand size')\n",
    "plt.ylabel('weight')\n",
    "plt.title('Mesh visualization')\n",
    "\n",
    "plt.xlim(xx.min(), xx.max())\n",
    "plt.ylim(yy.min(), yy.max())\n",
    "\n",
    "plt.show()"
   ]
  },
  {
   "cell_type": "code",
   "execution_count": null,
   "metadata": {},
   "outputs": [],
   "source": []
  }
 ],
 "metadata": {
  "kernelspec": {
   "display_name": "Python (fast_ai)",
   "language": "python",
   "name": "fast_ai"
  },
  "language_info": {
   "codemirror_mode": {
    "name": "ipython",
    "version": 3
   },
   "file_extension": ".py",
   "mimetype": "text/x-python",
   "name": "python",
   "nbconvert_exporter": "python",
   "pygments_lexer": "ipython3",
   "version": "3.7.3"
  }
 },
 "nbformat": 4,
 "nbformat_minor": 2
}
