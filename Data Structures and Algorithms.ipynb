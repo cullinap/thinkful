{
 "cells": [
  {
   "cell_type": "code",
   "execution_count": 1,
   "metadata": {},
   "outputs": [],
   "source": [
    "import time\n",
    "import random\n",
    "\n",
    "# Set seed.\n",
    "random.seed(a=100)\n",
    "\n",
    "# Create our default list.\n",
    "short_list = list(random.sample(range(1000000), 10))\n",
    "long_list = list(random.sample(range(1000000), 10000))"
   ]
  },
  {
   "cell_type": "code",
   "execution_count": 2,
   "metadata": {},
   "outputs": [],
   "source": [
    "def heapify(arr, n, i):\n",
    "    largest = i\n",
    "    l = 2 * i + 1 #left\n",
    "    r = 2 * i + 2 #right\n",
    "    \n",
    "    #see if left child exists & > than root\n",
    "    if l < n and arr[i] < arr[l]:\n",
    "        largest = l\n",
    "        \n",
    "    #see if right child exists & > than root\n",
    "    if r < n and arr[largest] < arr[r]:\n",
    "        largest = r\n",
    "    \n",
    "    #change root if needed\n",
    "    if largest != i:\n",
    "        arr[i],arr[largest]=arr[largest],arr[i] #swap\n",
    "        \n",
    "        #heapify\n",
    "        heapify(arr, n, largest)"
   ]
  },
  {
   "cell_type": "code",
   "execution_count": 3,
   "metadata": {},
   "outputs": [],
   "source": [
    "#main function \n",
    "def heapSort(arr):\n",
    "    n = len(arr)\n",
    "    \n",
    "    #build a max heap\n",
    "    for i in range(n, -1, -1):\n",
    "        heapify(arr, n, i)\n",
    "        \n",
    "    #one by one extract elements\n",
    "    for i in range(n-1, 0, -1):\n",
    "        arr[i],arr[0]=arr[0],arr[i] #swap\n",
    "        heapify(arr, i, 0)"
   ]
  },
  {
   "cell_type": "code",
   "execution_count": 10,
   "metadata": {},
   "outputs": [
    {
     "name": "stdout",
     "output_type": "stream",
     "text": [
      "--- 0.00011897087097167969 seconds ---\n",
      "Sorted array is\n",
      "152745\n",
      "183236\n",
      "366725\n",
      "412125\n",
      "477025\n",
      "481850\n",
      "739784\n",
      "767514\n",
      "808225\n",
      "997948\n"
     ]
    }
   ],
   "source": [
    "# Test on short list.\n",
    "# Start timer.\n",
    "start_time = time.time()\n",
    "\n",
    "# Run our insertion sort.\n",
    "heapSort(short_list)\n",
    "\n",
    "# Print time to show runtime.\n",
    "print(\"--- %s seconds ---\" % (time.time() - start_time))\n",
    "\n",
    "n = len(short_list)\n",
    "print (\"Sorted array is\") \n",
    "for i in range(n): \n",
    "    print (\"%d\" %short_list[i]) "
   ]
  },
  {
   "cell_type": "code",
   "execution_count": 12,
   "metadata": {
    "scrolled": true
   },
   "outputs": [
    {
     "name": "stdout",
     "output_type": "stream",
     "text": [
      "--- 0.0923769474029541 seconds ---\n"
     ]
    }
   ],
   "source": [
    "# Test on long list.\n",
    "# Start timer.\n",
    "start_time = time.time()\n",
    "\n",
    "# Run our insertion sort.\n",
    "heapSort(long_list)\n",
    "\n",
    "# Print time to show runtime.\n",
    "print(\"--- %s seconds ---\" % (time.time() - start_time))\n",
    "\n",
    "n = len(long_list)\n",
    "# print (\"Sorted array is\") \n",
    "# for i in range(n): \n",
    "#     print (\"%d\" %long_list[i]), "
   ]
  },
  {
   "cell_type": "markdown",
   "metadata": {},
   "source": [
    "#### Binary Tree"
   ]
  },
  {
   "cell_type": "code",
   "execution_count": 42,
   "metadata": {},
   "outputs": [],
   "source": [
    "class Node:\n",
    "    def __init__(self, key):\n",
    "        self.data = key\n",
    "        self.left = None\n",
    "        self.right = None\n",
    "\n",
    "  \n",
    "#function to print level order traversal of tree  \n",
    "def printLevelOrder(root):\n",
    "    h = height(root)\n",
    "    for i in range(1, h+1):\n",
    "        printGivenLevel(root,i)\n",
    "        \n",
    "# # Function to  print level order traversal of tree \n",
    "# def printLevelOrder(root): \n",
    "#     h = height(root) \n",
    "#     for i in range(1, h+1): \n",
    "#         printGivenLevel(root, i) \n",
    "        \n",
    "#print nodes at a given level\n",
    "def printGivenLevel(root, level):\n",
    "    if root is None:\n",
    "        return\n",
    "    if level == 1:\n",
    "        print(\"%d\" %(root.data)),\n",
    "    elif level > 1:\n",
    "        printGivenLevel(root.left, level-1)\n",
    "        printGivenLevel(root.right, level-1)\n",
    "        \n",
    "def height(node):\n",
    "    if node is None:\n",
    "        return 0\n",
    "    else:\n",
    "        #compute the height of each subtree\n",
    "        lheight = height(node.left)\n",
    "        rheight = height(node.right)\n",
    "        \n",
    "        #Use the larger one\n",
    "        if lheight > rheight:\n",
    "            return lheight + 1\n",
    "        else:\n",
    "            return rheight + 1\n",
    "        "
   ]
  },
  {
   "cell_type": "code",
   "execution_count": 49,
   "metadata": {},
   "outputs": [
    {
     "name": "stdout",
     "output_type": "stream",
     "text": [
      "Level order traversal of binary tree is -\n",
      "1\n",
      "2\n",
      "3\n",
      "4\n",
      "5\n",
      "6\n",
      "7\n",
      "8\n"
     ]
    }
   ],
   "source": [
    "# Driver program to test above function \n",
    "root = Node(1) \n",
    "root.left = Node(2) \n",
    "root.right = Node(3) \n",
    "root.left.left = Node(4) \n",
    "root.left.right = Node(5)\n",
    "root.right.left = Node(6)\n",
    "root.right.right = Node(7)\n",
    "root.right.left.left = Node(8)\n",
    "  \n",
    "print(\"Level order traversal of binary tree is -\")\n",
    "printLevelOrder(root) "
   ]
  },
  {
   "cell_type": "code",
   "execution_count": null,
   "metadata": {},
   "outputs": [],
   "source": []
  }
 ],
 "metadata": {
  "kernelspec": {
   "display_name": "Python 3",
   "language": "python",
   "name": "python3"
  },
  "language_info": {
   "codemirror_mode": {
    "name": "ipython",
    "version": 3
   },
   "file_extension": ".py",
   "mimetype": "text/x-python",
   "name": "python",
   "nbconvert_exporter": "python",
   "pygments_lexer": "ipython3",
   "version": "3.7.5"
  }
 },
 "nbformat": 4,
 "nbformat_minor": 2
}
