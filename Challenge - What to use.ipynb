{
 "cells": [
  {
   "cell_type": "code",
   "execution_count": 1,
   "metadata": {},
   "outputs": [],
   "source": [
    "import matplotlib.pyplot as plt\n",
    "import numpy as np\n",
    "import pandas as pd\n",
    "import scipy.stats as stats\n",
    "%matplotlib inline"
   ]
  },
  {
   "cell_type": "code",
   "execution_count": 2,
   "metadata": {},
   "outputs": [],
   "source": [
    "data = pd.read_csv('https://raw.githubusercontent.com/Thinkful-Ed/data-201-resources/master/ESS_practice_data/ESSdata_Thinkful.csv')"
   ]
  },
  {
   "cell_type": "code",
   "execution_count": 3,
   "metadata": {},
   "outputs": [
    {
     "data": {
      "text/html": [
       "<div>\n",
       "<style scoped>\n",
       "    .dataframe tbody tr th:only-of-type {\n",
       "        vertical-align: middle;\n",
       "    }\n",
       "\n",
       "    .dataframe tbody tr th {\n",
       "        vertical-align: top;\n",
       "    }\n",
       "\n",
       "    .dataframe thead th {\n",
       "        text-align: right;\n",
       "    }\n",
       "</style>\n",
       "<table border=\"1\" class=\"dataframe\">\n",
       "  <thead>\n",
       "    <tr style=\"text-align: right;\">\n",
       "      <th></th>\n",
       "      <th>cntry</th>\n",
       "      <th>idno</th>\n",
       "      <th>year</th>\n",
       "      <th>tvtot</th>\n",
       "      <th>ppltrst</th>\n",
       "      <th>pplfair</th>\n",
       "      <th>pplhlp</th>\n",
       "      <th>happy</th>\n",
       "      <th>sclmeet</th>\n",
       "      <th>sclact</th>\n",
       "      <th>gndr</th>\n",
       "      <th>agea</th>\n",
       "      <th>partner</th>\n",
       "    </tr>\n",
       "  </thead>\n",
       "  <tbody>\n",
       "    <tr>\n",
       "      <th>0</th>\n",
       "      <td>CH</td>\n",
       "      <td>5.0</td>\n",
       "      <td>6</td>\n",
       "      <td>3.0</td>\n",
       "      <td>3.0</td>\n",
       "      <td>10.0</td>\n",
       "      <td>5.0</td>\n",
       "      <td>8.0</td>\n",
       "      <td>5.0</td>\n",
       "      <td>4.0</td>\n",
       "      <td>2.0</td>\n",
       "      <td>60.0</td>\n",
       "      <td>1.0</td>\n",
       "    </tr>\n",
       "    <tr>\n",
       "      <th>1</th>\n",
       "      <td>CH</td>\n",
       "      <td>25.0</td>\n",
       "      <td>6</td>\n",
       "      <td>6.0</td>\n",
       "      <td>5.0</td>\n",
       "      <td>7.0</td>\n",
       "      <td>5.0</td>\n",
       "      <td>9.0</td>\n",
       "      <td>3.0</td>\n",
       "      <td>2.0</td>\n",
       "      <td>2.0</td>\n",
       "      <td>59.0</td>\n",
       "      <td>1.0</td>\n",
       "    </tr>\n",
       "    <tr>\n",
       "      <th>2</th>\n",
       "      <td>CH</td>\n",
       "      <td>26.0</td>\n",
       "      <td>6</td>\n",
       "      <td>1.0</td>\n",
       "      <td>8.0</td>\n",
       "      <td>8.0</td>\n",
       "      <td>8.0</td>\n",
       "      <td>7.0</td>\n",
       "      <td>6.0</td>\n",
       "      <td>3.0</td>\n",
       "      <td>1.0</td>\n",
       "      <td>24.0</td>\n",
       "      <td>2.0</td>\n",
       "    </tr>\n",
       "    <tr>\n",
       "      <th>3</th>\n",
       "      <td>CH</td>\n",
       "      <td>28.0</td>\n",
       "      <td>6</td>\n",
       "      <td>4.0</td>\n",
       "      <td>6.0</td>\n",
       "      <td>6.0</td>\n",
       "      <td>7.0</td>\n",
       "      <td>10.0</td>\n",
       "      <td>6.0</td>\n",
       "      <td>2.0</td>\n",
       "      <td>2.0</td>\n",
       "      <td>64.0</td>\n",
       "      <td>1.0</td>\n",
       "    </tr>\n",
       "    <tr>\n",
       "      <th>4</th>\n",
       "      <td>CH</td>\n",
       "      <td>29.0</td>\n",
       "      <td>6</td>\n",
       "      <td>5.0</td>\n",
       "      <td>6.0</td>\n",
       "      <td>7.0</td>\n",
       "      <td>5.0</td>\n",
       "      <td>8.0</td>\n",
       "      <td>7.0</td>\n",
       "      <td>2.0</td>\n",
       "      <td>2.0</td>\n",
       "      <td>55.0</td>\n",
       "      <td>1.0</td>\n",
       "    </tr>\n",
       "  </tbody>\n",
       "</table>\n",
       "</div>"
      ],
      "text/plain": [
       "  cntry  idno  year  tvtot  ppltrst  pplfair  pplhlp  happy  sclmeet  sclact  \\\n",
       "0    CH   5.0     6    3.0      3.0     10.0     5.0    8.0      5.0     4.0   \n",
       "1    CH  25.0     6    6.0      5.0      7.0     5.0    9.0      3.0     2.0   \n",
       "2    CH  26.0     6    1.0      8.0      8.0     8.0    7.0      6.0     3.0   \n",
       "3    CH  28.0     6    4.0      6.0      6.0     7.0   10.0      6.0     2.0   \n",
       "4    CH  29.0     6    5.0      6.0      7.0     5.0    8.0      7.0     2.0   \n",
       "\n",
       "   gndr  agea  partner  \n",
       "0   2.0  60.0      1.0  \n",
       "1   2.0  59.0      1.0  \n",
       "2   1.0  24.0      2.0  \n",
       "3   2.0  64.0      1.0  \n",
       "4   2.0  55.0      1.0  "
      ]
     },
     "execution_count": 3,
     "metadata": {},
     "output_type": "execute_result"
    }
   ],
   "source": [
    "data.head()"
   ]
  },
  {
   "cell_type": "markdown",
   "metadata": {},
   "source": [
    "##### Did people become less trusting from 2012 to 2014? Compute results for each country in the sample."
   ]
  },
  {
   "cell_type": "code",
   "execution_count": 8,
   "metadata": {},
   "outputs": [
    {
     "data": {
      "text/plain": [
       "[6, 7]"
      ]
     },
     "execution_count": 8,
     "metadata": {},
     "output_type": "execute_result"
    }
   ],
   "source": [
    "list(data.year.unique())"
   ]
  },
  {
   "cell_type": "code",
   "execution_count": 32,
   "metadata": {},
   "outputs": [
    {
     "data": {
      "image/png": "[encoded data removed]",
      "text/plain": [
       "<Figure size 720x360 with 2 Axes>"
      ]
     },
     "metadata": {
      "needs_background": "light"
     },
     "output_type": "display_data"
    }
   ],
   "source": [
    "import seaborn as sns\n",
    "\n",
    "plt.figure(figsize = (10,5))\n",
    "\n",
    "years = {'y_'+str(i): data[data['year']==i] for i in list(data.year.unique())}\n",
    "colors = ['red','green']\n",
    "\n",
    "for i,y in enumerate(years.keys()):\n",
    "    plt.subplot(1,2,i+1)\n",
    "    sns.distplot(years[y]['ppltrst'].dropna(), color = colors[i])\n",
    "    \n",
    "plt.show()"
   ]
  },
  {
   "cell_type": "markdown",
   "metadata": {},
   "source": [
    "##### Normality test"
   ]
  },
  {
   "cell_type": "code",
   "execution_count": 36,
   "metadata": {},
   "outputs": [],
   "source": [
    "def normality_(data, alpha):\n",
    "    k2,p=stats.normaltest(data)\n",
    "    print('Reject null, distro is normal: p-value {}'.format(p)) if p < alpha \\\n",
    "            else print('Distro not normal, can\\'t reject null: p-value {}'.format(p))"
   ]
  },
  {
   "cell_type": "code",
   "execution_count": 43,
   "metadata": {},
   "outputs": [
    {
     "name": "stdout",
     "output_type": "stream",
     "text": [
      "2012\n",
      "Reject null, distro is normal: p-value 2.604290647718513e-41\n",
      "2014\n",
      "Reject null, distro is normal: p-value 1.1470645274812542e-33\n"
     ]
    }
   ],
   "source": [
    "for i,y in zip([2012,2014],years.keys()):\n",
    "    print(i)\n",
    "    normality_(years[y]['ppltrst'].dropna(),0.05)"
   ]
  },
  {
   "cell_type": "markdown",
   "metadata": {},
   "source": [
    "##### T-test"
   ]
  },
  {
   "cell_type": "code",
   "execution_count": 44,
   "metadata": {},
   "outputs": [
    {
     "name": "stdout",
     "output_type": "stream",
     "text": [
      "Ttest_indResult(statistic=0.13222510058441272, pvalue=0.8948093492496576)\n"
     ]
    }
   ],
   "source": [
    "import scipy.stats as stats\n",
    "print(stats.ttest_ind(years['y_6']['ppltrst'].dropna(), years['y_7']['ppltrst'].dropna(), nan_policy='omit'))"
   ]
  },
  {
   "cell_type": "code",
   "execution_count": 66,
   "metadata": {},
   "outputs": [
    {
     "name": "stdout",
     "output_type": "stream",
     "text": [
      "CH 2012\n",
      "Reject null, distro is normal: p-value 3.365792056559453e-08\n",
      "============================================================\n",
      "CZ 2012\n",
      "Reject null, distro is normal: p-value 3.6357853778446555e-06\n",
      "============================================================\n",
      "DE 2012\n",
      "Distro not normal, can't reject null: p-value 0.7581671476973477\n",
      "============================================================\n",
      "ES 2012\n",
      "Reject null, distro is normal: p-value 3.7233182008430934e-11\n",
      "============================================================\n",
      "NO 2012\n",
      "Reject null, distro is normal: p-value 2.734553769183859e-19\n",
      "============================================================\n",
      "SE 2012\n",
      "Reject null, distro is normal: p-value 1.6891340175735843e-16\n",
      "============================================================\n",
      "CH 2014\n",
      "Reject null, distro is normal: p-value 1.0859809748932778e-07\n",
      "============================================================\n",
      "CZ 2014\n",
      "Reject null, distro is normal: p-value 0.0181729632415102\n",
      "============================================================\n",
      "DE 2014\n",
      "Distro not normal, can't reject null: p-value 0.7242674045554323\n",
      "============================================================\n",
      "ES 2014\n",
      "Reject null, distro is normal: p-value 3.3865058313911153e-07\n",
      "============================================================\n",
      "NO 2014\n",
      "Reject null, distro is normal: p-value 3.441457258129768e-16\n",
      "============================================================\n",
      "SE 2014\n",
      "Reject null, distro is normal: p-value 4.276395667350845e-15\n",
      "============================================================\n"
     ]
    }
   ],
   "source": [
    "for i,y in zip([2012,2014],years.keys()):\n",
    "    for c in years[y]['cntry'].unique():\n",
    "        print(c, i)\n",
    "        normality_(years[y][years[y]['cntry']==c]['ppltrst'].dropna(),0.05)\n",
    "        print('='*60)"
   ]
  },
  {
   "cell_type": "code",
   "execution_count": 67,
   "metadata": {},
   "outputs": [
    {
     "name": "stdout",
     "output_type": "stream",
     "text": [
      "CH\n",
      "Ttest_indResult(statistic=-0.6782716584661505, pvalue=0.49770110247151234)\n",
      "============================================================\n",
      "CZ\n",
      "Ttest_indResult(statistic=-0.47654431369598554, pvalue=0.6337663626856563)\n",
      "============================================================\n",
      "DE\n",
      "Ttest_indResult(statistic=-0.18084358577434545, pvalue=0.8578926631223287)\n",
      "============================================================\n",
      "ES\n",
      "Ttest_indResult(statistic=2.494276516716002, pvalue=0.012687599930326627)\n",
      "============================================================\n",
      "NO\n",
      "Ttest_indResult(statistic=0.5437669865283744, pvalue=0.5866849635988214)\n",
      "============================================================\n",
      "SE\n",
      "Ttest_indResult(statistic=-2.089164843127998, pvalue=0.03683208699520371)\n",
      "============================================================\n"
     ]
    }
   ],
   "source": [
    "for c in years[y]['cntry'].unique():\n",
    "    print(c)\n",
    "    print(stats.ttest_ind(years['y_6'][years['y_6']['cntry']==c]['ppltrst'].dropna(), \n",
    "                          years['y_7'][years['y_7']['cntry']==c]['ppltrst'].dropna(), \n",
    "                          nan_policy='omit'))\n",
    "    print('='*60)"
   ]
  },
  {
   "cell_type": "markdown",
   "metadata": {},
   "source": [
    "##### Happiness"
   ]
  },
  {
   "cell_type": "code",
   "execution_count": 70,
   "metadata": {},
   "outputs": [
    {
     "name": "stdout",
     "output_type": "stream",
     "text": [
      "8.0 2012\n",
      "Reject null, distro is normal: p-value 4.819395063113303e-25\n",
      "============================================================\n",
      "9.0 2012\n",
      "Reject null, distro is normal: p-value 8.3548262206366e-13\n",
      "============================================================\n",
      "7.0 2012\n",
      "Reject null, distro is normal: p-value 2.3903590018047527e-06\n",
      "============================================================\n",
      "10.0 2012\n",
      "Reject null, distro is normal: p-value 2.7300485063657455e-06\n",
      "============================================================\n",
      "0.0 2012\n",
      "Distro not normal, can't reject null: p-value 0.18481346258488981\n",
      "============================================================\n",
      "6.0 2012\n",
      "Reject null, distro is normal: p-value 0.033570945366609\n",
      "============================================================\n",
      "5.0 2012\n",
      "Distro not normal, can't reject null: p-value 0.19386860812599804\n",
      "============================================================\n",
      "1.0 2012\n",
      "Distro not normal, can't reject null: p-value 0.25932655822946377\n",
      "============================================================\n",
      "4.0 2012\n",
      "Distro not normal, can't reject null: p-value 0.7061072128335459\n",
      "============================================================\n",
      "nan 2012\n",
      "3.0 2012\n",
      "Distro not normal, can't reject null: p-value 0.416539105243103\n",
      "============================================================\n",
      "2.0 2012\n",
      "Distro not normal, can't reject null: p-value 0.5285843820767145\n",
      "============================================================\n",
      "9.0 2014\n",
      "Reject null, distro is normal: p-value 1.0330270279279708e-12\n",
      "============================================================\n",
      "6.0 2014\n",
      "Distro not normal, can't reject null: p-value 0.06707459225065154\n",
      "============================================================\n",
      "8.0 2014\n",
      "Reject null, distro is normal: p-value 2.7940755665420842e-14\n",
      "============================================================\n",
      "10.0 2014\n",
      "Reject null, distro is normal: p-value 1.604033953803381e-05\n",
      "============================================================\n",
      "7.0 2014\n",
      "Reject null, distro is normal: p-value 1.1318666329692382e-06\n",
      "============================================================\n",
      "5.0 2014\n",
      "Distro not normal, can't reject null: p-value 0.08722263118136665\n",
      "============================================================\n",
      "4.0 2014\n",
      "Distro not normal, can't reject null: p-value 0.11598027255100024\n",
      "============================================================\n",
      "3.0 2014\n",
      "Distro not normal, can't reject null: p-value 0.4866417258022766\n",
      "============================================================\n",
      "0.0 2014\n",
      "Distro not normal, can't reject null: p-value 0.38281084556248063\n",
      "============================================================\n",
      "2.0 2014\n",
      "Distro not normal, can't reject null: p-value 0.6491607745506971\n",
      "============================================================\n",
      "nan 2014\n",
      "1.0 2014\n",
      "Distro not normal, can't reject null: p-value 0.5734165292247787\n",
      "============================================================\n"
     ]
    },
    {
     "name": "stderr",
     "output_type": "stream",
     "text": [
      "/usr/local/lib/python3.7/site-packages/scipy/stats/stats.py:1450: UserWarning: kurtosistest only valid for n>=20 ... continuing anyway, n=12\n",
      "  \"anyway, n=%i\" % int(n))\n"
     ]
    }
   ],
   "source": [
    "for i,y in zip([2012,2014],years.keys()):\n",
    "    for c in years[y]['happy'].unique():\n",
    "        try:\n",
    "            print(c, i)\n",
    "            normality_(years[y][years[y]['happy']==c]['ppltrst'].dropna(),0.05)\n",
    "            print('='*60)\n",
    "        except:\n",
    "            pass"
   ]
  },
  {
   "cell_type": "code",
   "execution_count": 68,
   "metadata": {},
   "outputs": [
    {
     "name": "stdout",
     "output_type": "stream",
     "text": [
      "9.0\n",
      "Ttest_indResult(statistic=1.0345844608306516, pvalue=0.3010074429490395)\n",
      "============================================================\n",
      "6.0\n",
      "Ttest_indResult(statistic=-2.2569661909624177, pvalue=0.024363165229533447)\n",
      "============================================================\n",
      "8.0\n",
      "Ttest_indResult(statistic=0.28084621395842174, pvalue=0.7788512475664672)\n",
      "============================================================\n",
      "10.0\n",
      "Ttest_indResult(statistic=-0.6983539964555872, pvalue=0.48509952541876067)\n",
      "============================================================\n",
      "7.0\n",
      "Ttest_indResult(statistic=0.5075118151227836, pvalue=0.6118694242606888)\n",
      "============================================================\n",
      "5.0\n",
      "Ttest_indResult(statistic=1.6730877207971044, pvalue=0.09482869048954044)\n",
      "============================================================\n",
      "4.0\n",
      "Ttest_indResult(statistic=-0.6495636314099265, pvalue=0.5168406453638262)\n",
      "============================================================\n",
      "3.0\n",
      "Ttest_indResult(statistic=-0.3255115542494122, pvalue=0.745347018857383)\n",
      "============================================================\n",
      "0.0\n",
      "Ttest_indResult(statistic=-0.8862277486086902, pvalue=0.3836187459846996)\n",
      "============================================================\n",
      "2.0\n",
      "Ttest_indResult(statistic=-1.3593983483785184, pvalue=0.17956813028981453)\n",
      "============================================================\n",
      "nan\n",
      "Ttest_indResult(statistic=nan, pvalue=nan)\n",
      "============================================================\n",
      "1.0\n",
      "Ttest_indResult(statistic=-0.3442651863295487, pvalue=0.7342402663312957)\n",
      "============================================================\n"
     ]
    }
   ],
   "source": [
    "for c in years[y]['happy'].unique():\n",
    "    print(c)\n",
    "    print(stats.ttest_ind(years['y_6'][years['y_6']['happy']==c]['ppltrst'].dropna(), \n",
    "                          years['y_7'][years['y_7']['happy']==c]['ppltrst'].dropna(), \n",
    "                          nan_policy='omit'))\n",
    "    print('='*60)"
   ]
  },
  {
   "cell_type": "markdown",
   "metadata": {},
   "source": [
    "##### TV - Men or Women?"
   ]
  },
  {
   "cell_type": "code",
   "execution_count": 86,
   "metadata": {},
   "outputs": [
    {
     "data": {
      "image/png": "[encoded data removed]",
      "text/plain": [
       "<Figure size 432x288 with 2 Axes>"
      ]
     },
     "metadata": {
      "needs_background": "light"
     },
     "output_type": "display_data"
    },
    {
     "name": "stdout",
     "output_type": "stream",
     "text": [
      "2.0 1\n",
      "Reject null, distro is normal: p-value 1.2049181771413786e-103\n",
      "============================================================\n",
      "1.0 1\n",
      "Reject null, distro is normal: p-value 3.0125974743415432e-89\n",
      "============================================================\n",
      "\n",
      "%%%%%%%%%%%%%%%%%%%%%%%%%%%%%%%%%%%%%%%%%%%%%%%%%%%%%%%%%%%%\n",
      "\n",
      "t-test\n",
      "Ttest_indResult(statistic=-0.6899928109209502, pvalue=0.4902360402696986)\n",
      "============================================================\n"
     ]
    }
   ],
   "source": [
    "for i,y in enumerate(years['y_6']['gndr'].unique()):\n",
    "    plt.subplot(1,2,i+1)\n",
    "    sns.distplot(years['y_6'][years['y_6']['gndr']==c]['tvtot'].dropna(), color = colors[i])\n",
    "    \n",
    "plt.show()\n",
    "\n",
    "for c in years['y_6']['gndr'].unique():\n",
    "    print(c, i)\n",
    "    normality_(years['y_6'][years['y_6']['gndr']==c]['tvtot'].dropna(),0.05)\n",
    "    print('='*60)\n",
    "    \n",
    "print('')\n",
    "print('%'*60)\n",
    "print('')\n",
    "print('t-test')\n",
    "print(stats.ttest_ind(years['y_6'][years['y_6']['gndr']==1]['tvtot'].dropna(), \n",
    "                      years['y_6'][years['y_6']['gndr']==2]['tvtot'].dropna(), \n",
    "                      nan_policy='omit'))\n",
    "print('='*60)\n"
   ]
  },
  {
   "cell_type": "code",
   "execution_count": null,
   "metadata": {},
   "outputs": [],
   "source": []
  }
 ],
 "metadata": {
  "kernelspec": {
   "display_name": "Python 3",
   "language": "python",
   "name": "python3"
  },
  "language_info": {
   "codemirror_mode": {
    "name": "ipython",
    "version": 3
   },
   "file_extension": ".py",
   "mimetype": "text/x-python",
   "name": "python",
   "nbconvert_exporter": "python",
   "pygments_lexer": "ipython3",
   "version": "3.7.5"
  }
 },
 "nbformat": 4,
 "nbformat_minor": 2
}
