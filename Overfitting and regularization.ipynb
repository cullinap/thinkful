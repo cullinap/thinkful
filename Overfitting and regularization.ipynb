{
 "cells": [
  {
   "cell_type": "markdown",
   "metadata": {},
   "source": [
    "### Overfitting and regularization\n",
    "#### Housing"
   ]
  },
  {
   "cell_type": "code",
   "execution_count": 17,
   "metadata": {},
   "outputs": [],
   "source": [
    "import numpy as np\n",
    "import pandas as pd\n",
    "import matplotlib.pyplot as plt\n",
    "from sqlalchemy import create_engine\n",
    "import statsmodels.api as sm\n",
    "import seaborn as sns\n",
    "\n",
    "import warnings\n",
    "warnings.filterwarnings('ignore')\n",
    "\n",
    "postgres_user = 'dsbc_student'\n",
    "postgres_pw = '7*.8G9QH21'\n",
    "postgres_host = '142.93.121.174'\n",
    "postgres_port = '5432'\n",
    "postgres_db = 'houseprices'\n",
    "\n",
    "engine = create_engine('postgresql://{}:{}@{}:{}/{}'.format(\n",
    "    postgres_user, postgres_pw, postgres_host, postgres_port, postgres_db))\n",
    "house_prices_df = pd.read_sql_query('select * from houseprices',con=engine)\n",
    "\n",
    "# no need for an open connection, as we're only doing a single query\n",
    "engine.dispose()\n",
    "\n",
    "from useful.eda import basic_info"
   ]
  },
  {
   "cell_type": "code",
   "execution_count": 18,
   "metadata": {
    "scrolled": false
   },
   "outputs": [],
   "source": [
    "#basic_info.data_info(house_prices_df,'saleprice')"
   ]
  },
  {
   "cell_type": "markdown",
   "metadata": {},
   "source": [
    "#### Create Dummy Columns"
   ]
  },
  {
   "cell_type": "code",
   "execution_count": 19,
   "metadata": {},
   "outputs": [],
   "source": [
    "house_prices_df = pd.concat(\n",
    "    [house_prices_df,\n",
    "     pd.get_dummies(\n",
    "         house_prices_df.mszoning, \n",
    "         prefix=\"mszoning\", \n",
    "         drop_first=True)], \n",
    "    axis=1)\n",
    "\n",
    "house_prices_df = pd.concat(\n",
    "    [house_prices_df,\n",
    "     pd.get_dummies(\n",
    "         house_prices_df.street, \n",
    "         prefix=\"street\", \n",
    "         drop_first=True)], \n",
    "    axis=1)\n",
    "\n",
    "dummy_column_names = list(\n",
    "    pd.get_dummies(\n",
    "        house_prices_df.mszoning, \n",
    "        prefix=\"mszoning\", \n",
    "        drop_first=True).columns)\n",
    "\n",
    "dummy_column_names = dummy_column_names + list(\n",
    "    pd.get_dummies(\n",
    "        house_prices_df.street, \n",
    "        prefix=\"street\", \n",
    "        drop_first=True).columns)"
   ]
  },
  {
   "cell_type": "markdown",
   "metadata": {},
   "source": [
    "#### Make the X & Y values"
   ]
  },
  {
   "cell_type": "code",
   "execution_count": 20,
   "metadata": {},
   "outputs": [],
   "source": [
    "X = house_prices_df[[\n",
    "    'overallqual', \n",
    "    'grlivarea', \n",
    "    'garagecars', \n",
    "    'garagearea', \n",
    "    'totalbsmtsf'\n",
    "    ] + dummy_column_names\n",
    "]\n",
    "\n",
    "Y = house_prices_df.saleprice"
   ]
  },
  {
   "cell_type": "markdown",
   "metadata": {},
   "source": [
    "#### Split into training & test"
   ]
  },
  {
   "cell_type": "code",
   "execution_count": 23,
   "metadata": {},
   "outputs": [
    {
     "name": "stdout",
     "output_type": "stream",
     "text": [
      "The number of observations in training set is 1168\n",
      "The number of observations in test set is 292\n"
     ]
    }
   ],
   "source": [
    "from sklearn.model_selection import train_test_split\n",
    "\n",
    "X_train, X_test, y_train, y_test = train_test_split(X, Y, test_size = 0.2, random_state = 465)\n",
    "\n",
    "print(\"The number of observations in training set is {}\".format(X_train.shape[0]))\n",
    "print(\"The number of observations in test set is {}\".format(X_test.shape[0]))"
   ]
  },
  {
   "cell_type": "markdown",
   "metadata": {},
   "source": [
    "#### Run the model - Regular 'Ol Linear Regression"
   ]
  },
  {
   "cell_type": "code",
   "execution_count": 24,
   "metadata": {},
   "outputs": [
    {
     "name": "stdout",
     "output_type": "stream",
     "text": [
      "                            OLS Regression Results                            \n",
      "==============================================================================\n",
      "Dep. Variable:              saleprice   R-squared:                       0.768\n",
      "Model:                            OLS   Adj. R-squared:                  0.766\n",
      "Method:                 Least Squares   F-statistic:                     383.1\n",
      "Date:                Thu, 19 Sep 2019   Prob (F-statistic):               0.00\n",
      "Time:                        08:51:03   Log-Likelihood:                -13972.\n",
      "No. Observations:                1168   AIC:                         2.797e+04\n",
      "Df Residuals:                    1157   BIC:                         2.802e+04\n",
      "Df Model:                          10                                         \n",
      "Covariance Type:            nonrobust                                         \n",
      "===============================================================================\n",
      "                  coef    std err          t      P>|t|      [0.025      0.975]\n",
      "-------------------------------------------------------------------------------\n",
      "const       -1.039e+05   2.06e+04     -5.037      0.000   -1.44e+05   -6.34e+04\n",
      "overallqual  2.433e+04   1244.706     19.548      0.000    2.19e+04    2.68e+04\n",
      "grlivarea      43.3745      2.745     15.800      0.000      37.988      48.760\n",
      "garagecars   1.407e+04   3409.600      4.126      0.000    7379.047    2.08e+04\n",
      "garagearea     17.5210     11.560      1.516      0.130      -5.161      40.203\n",
      "totalbsmtsf    23.4504      3.183      7.368      0.000      17.206      29.695\n",
      "mszoning_FV  1.933e+04    1.5e+04      1.289      0.198   -1.01e+04    4.88e+04\n",
      "mszoning_RH  7305.5078   1.72e+04      0.426      0.670   -2.63e+04     4.1e+04\n",
      "mszoning_RL  2.429e+04   1.39e+04      1.747      0.081   -2983.478    5.16e+04\n",
      "mszoning_RM  2864.3070   1.41e+04      0.203      0.839   -2.48e+04    3.05e+04\n",
      "street_Pave -8177.6681   1.74e+04     -0.470      0.639   -4.23e+04     2.6e+04\n",
      "==============================================================================\n",
      "Omnibus:                      355.774   Durbin-Watson:                   1.863\n",
      "Prob(Omnibus):                  0.000   Jarque-Bera (JB):            30190.746\n",
      "Skew:                          -0.383   Prob(JB):                         0.00\n",
      "Kurtosis:                      27.895   Cond. No.                     5.62e+04\n",
      "==============================================================================\n",
      "\n",
      "Warnings:\n",
      "[1] Standard Errors assume that the covariance matrix of the errors is correctly specified.\n",
      "[2] The condition number is large, 5.62e+04. This might indicate that there are\n",
      "strong multicollinearity or other numerical problems.\n"
     ]
    }
   ],
   "source": [
    "# We add constant to the model as it's a best practice\n",
    "# to do so everytime!\n",
    "X_train = sm.add_constant(X_train)\n",
    "\n",
    "# We fit an OLS model using statsmodels\n",
    "results = sm.OLS(y_train, X_train).fit()\n",
    "\n",
    "# We print the summary results\n",
    "print(results.summary())"
   ]
  },
  {
   "cell_type": "markdown",
   "metadata": {},
   "source": [
    "##### Evaluation\n",
    "\n",
    "R^2 & Adj R^2 are 0.786 and 0.766 respectively while Prob F-stat is 0"
   ]
  },
  {
   "cell_type": "markdown",
   "metadata": {},
   "source": [
    "#### Predict"
   ]
  },
  {
   "cell_type": "code",
   "execution_count": 25,
   "metadata": {},
   "outputs": [
    {
     "data": {
      "image/png": "[encoded data removed]",
      "text/plain": [
       "<Figure size 432x288 with 1 Axes>"
      ]
     },
     "metadata": {
      "needs_background": "light"
     },
     "output_type": "display_data"
    },
    {
     "name": "stdout",
     "output_type": "stream",
     "text": [
      "Mean absolute error of the prediction is: 25546.803828588643\n",
      "Mean squared error of the prediction is: 1559083821.9730175\n",
      "Root mean squared error of the prediction is: 39485.23549344764\n",
      "Mean absolute percentage error of the prediction is: 15.551420347537665\n"
     ]
    }
   ],
   "source": [
    "from sklearn.metrics import mean_absolute_error\n",
    "from statsmodels.tools.eval_measures import mse, rmse\n",
    "\n",
    "#We add constant to the model as it's a best practice\n",
    "# to do so every time!\n",
    "X_test = sm.add_constant(X_test)\n",
    "\n",
    "# We are making predictions here\n",
    "y_preds = results.predict(X_test)\n",
    "\n",
    "plt.scatter(y_test, y_preds)\n",
    "plt.plot(y_test, y_test, color=\"red\")\n",
    "plt.xlabel(\"true values\")\n",
    "plt.ylabel(\"predicted values\")\n",
    "plt.title(\"Charges: true and predicted values\")\n",
    "plt.show()\n",
    "\n",
    "print(\"Mean absolute error of the prediction is: {}\".format(mean_absolute_error(y_test, y_preds)))\n",
    "print(\"Mean squared error of the prediction is: {}\".format(mse(y_test, y_preds)))\n",
    "print(\"Root mean squared error of the prediction is: {}\".format(rmse(y_test, y_preds)))\n",
    "print(\"Mean absolute percentage error of the prediction is: {}\".format(np.mean(np.abs((y_test - y_preds) / y_test)) * 100))\n",
    "\n"
   ]
  },
  {
   "cell_type": "markdown",
   "metadata": {},
   "source": [
    "#### Evaluation\n",
    "\n",
    "\n"
   ]
  },
  {
   "cell_type": "markdown",
   "metadata": {},
   "source": [
    "#### Ridge Regression"
   ]
  },
  {
   "cell_type": "code",
   "execution_count": 41,
   "metadata": {},
   "outputs": [
    {
     "name": "stdout",
     "output_type": "stream",
     "text": [
      "R^2 train 0.7680010617052181\n",
      "-test stats-\n",
      "R^2 test 0.7676094288873447\n",
      "MAE prediction 25568.66557674715\n",
      "MSE prediction 1560201525.217235\n",
      "RMSE prediction 39499.38639038884\n",
      "MA%E prediction 182848.66601211193\n"
     ]
    }
   ],
   "source": [
    "from sklearn.linear_model import Ridge\n",
    "\n",
    "ridgeregr = Ridge(alpha=1)\n",
    "ridgeregr.fit(X_train, y_train)\n",
    "\n",
    "#prediction time\n",
    "y_preds_train = ridgeregr.predict(X_train)\n",
    "y_preds_test = ridgeregr.predict(X_test)\n",
    "\n",
    "print(f\"R^2 train {ridgeregr.score(X_train, y_train)}\")\n",
    "print(\"-test stats-\")\n",
    "print(f\"R^2 test {ridgeregr.score(X_test, y_test)}\")\n",
    "print(f\"MAE prediction {mean_absolute_error(y_test,y_preds_test)}\")\n",
    "print(f\"MSE prediction {mse(y_test, y_preds_test)}\")\n",
    "print(f\"RMSE prediction {rmse(y_test, y_preds_test)}\")\n",
    "print(f\"MA%E prediction {np.mean(np.abs((y_test, y_preds_test)))}\")\n"
   ]
  },
  {
   "cell_type": "markdown",
   "metadata": {},
   "source": [
    "#### Lasso"
   ]
  },
  {
   "cell_type": "code",
   "execution_count": 52,
   "metadata": {},
   "outputs": [
    {
     "name": "stdout",
     "output_type": "stream",
     "text": [
      "R^2 train 0.76800784764796\n",
      "-test stats-\n",
      "R^2 test 0.7677451919995409\n",
      "MAE prediction 25557.82564801336\n",
      "MSE prediction 1559290051.8570957\n",
      "RMSE prediction 39487.846888088185\n",
      "MA%E prediction 182849.07138287445\n"
     ]
    }
   ],
   "source": [
    "from sklearn.linear_model import Lasso\n",
    "\n",
    "lassoregr = Lasso(alpha=10)\n",
    "lassoregr.fit(X_train, y_train)\n",
    "\n",
    "#prediction time\n",
    "y_preds_train = lassoregr.predict(X_train)\n",
    "y_preds_test = lassoregr.predict(X_test)\n",
    "\n",
    "print(f\"R^2 train {lassoregr.score(X_train, y_train)}\")\n",
    "print(\"-test stats-\")\n",
    "print(f\"R^2 test {lassoregr.score(X_test, y_test)}\")\n",
    "print(f\"MAE prediction {mean_absolute_error(y_test,y_preds_test)}\")\n",
    "print(f\"MSE prediction {mse(y_test, y_preds_test)}\")\n",
    "print(f\"RMSE prediction {rmse(y_test, y_preds_test)}\")\n",
    "print(f\"MA%E prediction {np.mean(np.abs((y_test, y_preds_test)))}\")\n"
   ]
  },
  {
   "cell_type": "markdown",
   "metadata": {},
   "source": [
    "#### Elasticnet regression"
   ]
  },
  {
   "cell_type": "code",
   "execution_count": 57,
   "metadata": {},
   "outputs": [
    {
     "name": "stdout",
     "output_type": "stream",
     "text": [
      "R^2 train 0.7680143130059536\n",
      "-test stats-\n",
      "R^2 test 0.7676558402021861\n",
      "MAE prediction 25559.747038222595\n",
      "MSE prediction 1559889933.3834693\n",
      "RMSE prediction 39495.44193174029\n",
      "MA%E prediction 182847.31437307462\n"
     ]
    }
   ],
   "source": [
    "from sklearn.linear_model import ElasticNet\n",
    "\n",
    "ElasticNetregr = ElasticNet(alpha=0.001)\n",
    "ElasticNetregr.fit(X_train, y_train)\n",
    "\n",
    "#prediction time\n",
    "y_preds_train = ElasticNetregr.predict(X_train)\n",
    "y_preds_test = ElasticNetregr.predict(X_test)\n",
    "\n",
    "print(f\"R^2 train {ElasticNetregr.score(X_train, y_train)}\")\n",
    "print(\"-test stats-\")\n",
    "print(f\"R^2 test {ElasticNetregr.score(X_test, y_test)}\")\n",
    "print(f\"MAE prediction {mean_absolute_error(y_test,y_preds_test)}\")\n",
    "print(f\"MSE prediction {mse(y_test, y_preds_test)}\")\n",
    "print(f\"RMSE prediction {rmse(y_test, y_preds_test)}\")\n",
    "print(f\"MA%E prediction {np.mean(np.abs((y_test, y_preds_test)))}\")\n"
   ]
  },
  {
   "cell_type": "markdown",
   "metadata": {},
   "source": [
    "##### Evaluation\n",
    "\n",
    "-All of the alpha values were relatively low in comparison to the example."
   ]
  },
  {
   "cell_type": "markdown",
   "metadata": {},
   "source": [
    "#### Use CV to find the best alpha"
   ]
  },
  {
   "cell_type": "code",
   "execution_count": 65,
   "metadata": {},
   "outputs": [],
   "source": [
    "alphas = [np.power(10.0,p) for p in np.arange(-10,40,1)]"
   ]
  },
  {
   "cell_type": "markdown",
   "metadata": {},
   "source": [
    "#### Elasticnet CV"
   ]
  },
  {
   "cell_type": "code",
   "execution_count": 64,
   "metadata": {},
   "outputs": [
    {
     "name": "stdout",
     "output_type": "stream",
     "text": [
      "Best alpha value is: 0.01\n",
      "R^2 train 0.7678925153819995\n",
      "-test stats-\n",
      "R^2 test 0.7676453805577793\n",
      "MAE prediction 25567.300532077246\n",
      "MSE prediction 1559960156.3407888\n",
      "RMSE prediction 39496.33092251467\n",
      "MA%E prediction 182845.66710350983\n"
     ]
    }
   ],
   "source": [
    "from sklearn.linear_model import ElasticNetCV\n",
    "\n",
    "ElasticNetregrCV = ElasticNetCV(alphas=alphas, cv=5)\n",
    "ElasticNetregrCV.fit(X_train, y_train)\n",
    "\n",
    "#prediction time\n",
    "y_preds_train = ElasticNetregrCV.predict(X_train)\n",
    "y_preds_test = ElasticNetregrCV.predict(X_test)\n",
    "\n",
    "print(\"Best alpha value is: {}\".format(ElasticNetregrCV.alpha_))\n",
    "print(f\"R^2 train {ElasticNetregrCV.score(X_train, y_train)}\")\n",
    "print(\"-test stats-\")\n",
    "print(f\"R^2 test {ElasticNetregrCV.score(X_test, y_test)}\")\n",
    "print(f\"MAE prediction {mean_absolute_error(y_test,y_preds_test)}\")\n",
    "print(f\"MSE prediction {mse(y_test, y_preds_test)}\")\n",
    "print(f\"RMSE prediction {rmse(y_test, y_preds_test)}\")\n",
    "print(f\"MA%E prediction {np.mean(np.abs((y_test, y_preds_test)))}\")"
   ]
  },
  {
   "cell_type": "markdown",
   "metadata": {},
   "source": [
    "#### Lasso CV"
   ]
  },
  {
   "cell_type": "code",
   "execution_count": 66,
   "metadata": {},
   "outputs": [
    {
     "name": "stdout",
     "output_type": "stream",
     "text": [
      "Best alpha value is: 100.0\n",
      "R^2 train 0.7678047359412336\n",
      "-test stats-\n",
      "R^2 test 0.7678676963052431\n",
      "MAE prediction 25550.279035003157\n",
      "MSE prediction 1558467594.200199\n",
      "RMSE prediction 39477.43145393579\n",
      "MA%E prediction 182850.32781557174\n"
     ]
    }
   ],
   "source": [
    "from sklearn.linear_model import LassoCV\n",
    "\n",
    "LassoregrCV = LassoCV(alphas=alphas, cv=5)\n",
    "LassoregrCV.fit(X_train, y_train)\n",
    "\n",
    "#prediction time\n",
    "y_preds_train = LassoregrCV.predict(X_train)\n",
    "y_preds_test = LassoregrCV.predict(X_test)\n",
    "\n",
    "print(\"Best alpha value is: {}\".format(LassoregrCV.alpha_))\n",
    "print(f\"R^2 train {LassoregrCV.score(X_train, y_train)}\")\n",
    "print(\"-test stats-\")\n",
    "print(f\"R^2 test {LassoregrCV.score(X_test, y_test)}\")\n",
    "print(f\"MAE prediction {mean_absolute_error(y_test,y_preds_test)}\")\n",
    "print(f\"MSE prediction {mse(y_test, y_preds_test)}\")\n",
    "print(f\"RMSE prediction {rmse(y_test, y_preds_test)}\")\n",
    "print(f\"MA%E prediction {np.mean(np.abs((y_test, y_preds_test)))}\")"
   ]
  },
  {
   "cell_type": "markdown",
   "metadata": {},
   "source": [
    "#### Ridge CV"
   ]
  },
  {
   "cell_type": "code",
   "execution_count": 67,
   "metadata": {},
   "outputs": [
    {
     "name": "stdout",
     "output_type": "stream",
     "text": [
      "Best alpha value is: 10.0\n",
      "R^2 train 0.7678338103945404\n",
      "-test stats-\n",
      "R^2 test 0.7678244205564297\n",
      "MAE prediction 25539.732544149636\n",
      "MSE prediction 1558758134.7715325\n",
      "RMSE prediction 39481.111113689956\n",
      "MA%E prediction 182837.80204113838\n"
     ]
    }
   ],
   "source": [
    "from sklearn.linear_model import RidgeCV\n",
    "\n",
    "RidgeregrCV = RidgeCV(alphas=alphas, cv=5)\n",
    "RidgeregrCV.fit(X_train, y_train)\n",
    "\n",
    "#prediction time\n",
    "y_preds_train = RidgeregrCV.predict(X_train)\n",
    "y_preds_test = RidgeregrCV.predict(X_test)\n",
    "\n",
    "print(\"Best alpha value is: {}\".format(RidgeregrCV.alpha_))\n",
    "print(f\"R^2 train {RidgeregrCV.score(X_train, y_train)}\")\n",
    "print(\"-test stats-\")\n",
    "print(f\"R^2 test {RidgeregrCV.score(X_test, y_test)}\")\n",
    "print(f\"MAE prediction {mean_absolute_error(y_test,y_preds_test)}\")\n",
    "print(f\"MSE prediction {mse(y_test, y_preds_test)}\")\n",
    "print(f\"RMSE prediction {rmse(y_test, y_preds_test)}\")\n",
    "print(f\"MA%E prediction {np.mean(np.abs((y_test, y_preds_test)))}\")"
   ]
  },
  {
   "cell_type": "markdown",
   "metadata": {},
   "source": [
    "#### Normalize Y"
   ]
  },
  {
   "cell_type": "code",
   "execution_count": 68,
   "metadata": {},
   "outputs": [],
   "source": [
    "X = X\n",
    "Y = np.log1p(house_prices_df['saleprice'])\n",
    "X_train, X_test, y_train, y_test = train_test_split(X, Y, test_size = 0.2, random_state = 465)"
   ]
  },
  {
   "cell_type": "markdown",
   "metadata": {},
   "source": [
    "#### ElasticNet again"
   ]
  },
  {
   "cell_type": "code",
   "execution_count": 69,
   "metadata": {},
   "outputs": [
    {
     "name": "stdout",
     "output_type": "stream",
     "text": [
      "Best alpha value is: 0.0001\n",
      "R^2 train 0.8211618044577551\n",
      "-test stats-\n",
      "R^2 test 0.832597441171097\n",
      "MAE prediction 0.12334848797265634\n",
      "MSE prediction 0.02791364828553429\n",
      "RMSE prediction 0.16707378096378345\n",
      "MA%E prediction 12.03339333315208\n"
     ]
    }
   ],
   "source": [
    "from sklearn.linear_model import ElasticNetCV\n",
    "\n",
    "ElasticNetregrCV = ElasticNetCV(alphas=alphas, cv=5)\n",
    "ElasticNetregrCV.fit(X_train, y_train)\n",
    "\n",
    "#prediction time\n",
    "y_preds_train = ElasticNetregrCV.predict(X_train)\n",
    "y_preds_test = ElasticNetregrCV.predict(X_test)\n",
    "\n",
    "print(\"Best alpha value is: {}\".format(ElasticNetregrCV.alpha_))\n",
    "print(f\"R^2 train {ElasticNetregrCV.score(X_train, y_train)}\")\n",
    "print(\"-test stats-\")\n",
    "print(f\"R^2 test {ElasticNetregrCV.score(X_test, y_test)}\")\n",
    "print(f\"MAE prediction {mean_absolute_error(y_test,y_preds_test)}\")\n",
    "print(f\"MSE prediction {mse(y_test, y_preds_test)}\")\n",
    "print(f\"RMSE prediction {rmse(y_test, y_preds_test)}\")\n",
    "print(f\"MA%E prediction {np.mean(np.abs((y_test, y_preds_test)))}\")"
   ]
  },
  {
   "cell_type": "markdown",
   "metadata": {},
   "source": [
    "Normalizing y increases the effectiveness of the model signficantly"
   ]
  },
  {
   "cell_type": "markdown",
   "metadata": {},
   "source": [
    "#### Lasso one more time..."
   ]
  },
  {
   "cell_type": "code",
   "execution_count": 70,
   "metadata": {},
   "outputs": [
    {
     "name": "stdout",
     "output_type": "stream",
     "text": [
      "Best alpha value is: 0.0001\n",
      "R^2 train 0.8210469638994399\n",
      "-test stats-\n",
      "R^2 test 0.8318704063894927\n",
      "MAE prediction 0.12348580472107867\n",
      "MSE prediction 0.02803487817190534\n",
      "RMSE prediction 0.1674361913443606\n",
      "MA%E prediction 12.033419281522328\n"
     ]
    }
   ],
   "source": [
    "from sklearn.linear_model import LassoCV\n",
    "\n",
    "LassoregrCV = LassoCV(alphas=alphas, cv=5)\n",
    "LassoregrCV.fit(X_train, y_train)\n",
    "\n",
    "#prediction time\n",
    "y_preds_train = LassoregrCV.predict(X_train)\n",
    "y_preds_test = LassoregrCV.predict(X_test)\n",
    "\n",
    "print(\"Best alpha value is: {}\".format(LassoregrCV.alpha_))\n",
    "print(f\"R^2 train {LassoregrCV.score(X_train, y_train)}\")\n",
    "print(\"-test stats-\")\n",
    "print(f\"R^2 test {LassoregrCV.score(X_test, y_test)}\")\n",
    "print(f\"MAE prediction {mean_absolute_error(y_test,y_preds_test)}\")\n",
    "print(f\"MSE prediction {mse(y_test, y_preds_test)}\")\n",
    "print(f\"RMSE prediction {rmse(y_test, y_preds_test)}\")\n",
    "print(f\"MA%E prediction {np.mean(np.abs((y_test, y_preds_test)))}\")"
   ]
  },
  {
   "cell_type": "markdown",
   "metadata": {},
   "source": [
    "#### Ridge"
   ]
  },
  {
   "cell_type": "code",
   "execution_count": 71,
   "metadata": {},
   "outputs": [
    {
     "name": "stdout",
     "output_type": "stream",
     "text": [
      "Best alpha value is: 1.0\n",
      "R^2 train 0.8205847130206674\n",
      "-test stats-\n",
      "R^2 test 0.8288619246325264\n",
      "MAE prediction 0.12405221927846372\n",
      "MSE prediction 0.028536529414424475\n",
      "RMSE prediction 0.16892758630379018\n",
      "MA%E prediction 12.033497855404299\n"
     ]
    }
   ],
   "source": [
    "from sklearn.linear_model import RidgeCV\n",
    "\n",
    "RidgeregrCV = RidgeCV(alphas=alphas, cv=5)\n",
    "RidgeregrCV.fit(X_train, y_train)\n",
    "\n",
    "#prediction time\n",
    "y_preds_train = RidgeregrCV.predict(X_train)\n",
    "y_preds_test = RidgeregrCV.predict(X_test)\n",
    "\n",
    "print(\"Best alpha value is: {}\".format(RidgeregrCV.alpha_))\n",
    "print(f\"R^2 train {RidgeregrCV.score(X_train, y_train)}\")\n",
    "print(\"-test stats-\")\n",
    "print(f\"R^2 test {RidgeregrCV.score(X_test, y_test)}\")\n",
    "print(f\"MAE prediction {mean_absolute_error(y_test,y_preds_test)}\")\n",
    "print(f\"MSE prediction {mse(y_test, y_preds_test)}\")\n",
    "print(f\"RMSE prediction {rmse(y_test, y_preds_test)}\")\n",
    "print(f\"MA%E prediction {np.mean(np.abs((y_test, y_preds_test)))}\")"
   ]
  },
  {
   "cell_type": "code",
   "execution_count": null,
   "metadata": {},
   "outputs": [],
   "source": []
  }
 ],
 "metadata": {
  "kernelspec": {
   "display_name": "Python (fast_ai)",
   "language": "python",
   "name": "fast_ai"
  },
  "language_info": {
   "codemirror_mode": {
    "name": "ipython",
    "version": 3
   },
   "file_extension": ".py",
   "mimetype": "text/x-python",
   "name": "python",
   "nbconvert_exporter": "python",
   "pygments_lexer": "ipython3",
   "version": "3.7.3"
  }
 },
 "nbformat": 4,
 "nbformat_minor": 2
}
