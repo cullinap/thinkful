{
 "cells": [
  {
   "cell_type": "code",
   "execution_count": 72,
   "metadata": {},
   "outputs": [],
   "source": [
    "import pandas as pd\n",
    "import numpy as np\n",
    "import matplotlib.pyplot as plt\n",
    "from useful.eda import basic_info\n",
    "import seaborn as sns\n",
    "from sklearn.cluster import KMeans\n",
    "from sklearn.preprocessing import normalize\n",
    "from sklearn.decomposition import PCA\n",
    "from sklearn.cluster import MiniBatchKMeans\n",
    "from sklearn.metrics import classification_report, confusion_matrix"
   ]
  },
  {
   "cell_type": "code",
   "execution_count": 8,
   "metadata": {
    "scrolled": false
   },
   "outputs": [
    {
     "name": "stdout",
     "output_type": "stream",
     "text": [
      "basic info for this dataframe...\n",
      "==================================================\n"
     ]
    },
    {
     "data": {
      "text/html": [
       "<table border=\"1\" class=\"dataframe\">\n",
       "  <thead>\n",
       "    <tr style=\"text-align: right;\">\n",
       "      <th></th>\n",
       "      <th>25k</th>\n",
       "      <th>age</th>\n",
       "      <th>name</th>\n",
       "      <th>division</th>\n",
       "      <th>10k</th>\n",
       "      <th>gender</th>\n",
       "      <th>half</th>\n",
       "      <th>official</th>\n",
       "      <th>bib</th>\n",
       "      <th>ctz</th>\n",
       "      <th>country</th>\n",
       "      <th>overall</th>\n",
       "      <th>pace</th>\n",
       "      <th>state</th>\n",
       "      <th>30k</th>\n",
       "      <th>5k</th>\n",
       "      <th>genderdiv</th>\n",
       "      <th>20k</th>\n",
       "      <th>35k</th>\n",
       "      <th>city</th>\n",
       "      <th>40k</th>\n",
       "    </tr>\n",
       "  </thead>\n",
       "  <tbody>\n",
       "    <tr>\n",
       "      <th>0</th>\n",
       "      <td>49.87</td>\n",
       "      <td>28</td>\n",
       "      <td>Cassidy, Josh R.</td>\n",
       "      <td>9</td>\n",
       "      <td>18.18</td>\n",
       "      <td>M</td>\n",
       "      <td>40.93</td>\n",
       "      <td>90.90</td>\n",
       "      <td>W1</td>\n",
       "      <td>NaN</td>\n",
       "      <td>CAN</td>\n",
       "      <td>9</td>\n",
       "      <td>3.47</td>\n",
       "      <td>ON</td>\n",
       "      <td>62.07</td>\n",
       "      <td>8.90</td>\n",
       "      <td>9</td>\n",
       "      <td>38.80</td>\n",
       "      <td>74.73</td>\n",
       "      <td>Toronto</td>\n",
       "      <td>85.55</td>\n",
       "    </tr>\n",
       "    <tr>\n",
       "      <th>1</th>\n",
       "      <td>77.27</td>\n",
       "      <td>30</td>\n",
       "      <td>Korir, Wesley</td>\n",
       "      <td>5</td>\n",
       "      <td>30.90</td>\n",
       "      <td>M</td>\n",
       "      <td>64.90</td>\n",
       "      <td>132.50</td>\n",
       "      <td>1</td>\n",
       "      <td>NaN</td>\n",
       "      <td>KEN</td>\n",
       "      <td>5</td>\n",
       "      <td>5.07</td>\n",
       "      <td>NaN</td>\n",
       "      <td>92.97</td>\n",
       "      <td>15.90</td>\n",
       "      <td>5</td>\n",
       "      <td>61.52</td>\n",
       "      <td>108.78</td>\n",
       "      <td>Kenya</td>\n",
       "      <td>124.77</td>\n",
       "    </tr>\n",
       "    <tr>\n",
       "      <th>2</th>\n",
       "      <td>77.23</td>\n",
       "      <td>23</td>\n",
       "      <td>Desisa, Lelisa</td>\n",
       "      <td>1</td>\n",
       "      <td>30.90</td>\n",
       "      <td>M</td>\n",
       "      <td>64.92</td>\n",
       "      <td>130.37</td>\n",
       "      <td>2</td>\n",
       "      <td>NaN</td>\n",
       "      <td>ETH</td>\n",
       "      <td>1</td>\n",
       "      <td>4.98</td>\n",
       "      <td>NaN</td>\n",
       "      <td>92.72</td>\n",
       "      <td>15.93</td>\n",
       "      <td>1</td>\n",
       "      <td>61.53</td>\n",
       "      <td>108.68</td>\n",
       "      <td>Ambo</td>\n",
       "      <td>123.78</td>\n",
       "    </tr>\n",
       "    <tr>\n",
       "      <th>3</th>\n",
       "      <td>50.50</td>\n",
       "      <td>32</td>\n",
       "      <td>Fearnley, Kurt H.</td>\n",
       "      <td>5</td>\n",
       "      <td>18.73</td>\n",
       "      <td>M</td>\n",
       "      <td>42.00</td>\n",
       "      <td>88.43</td>\n",
       "      <td>W2</td>\n",
       "      <td>NaN</td>\n",
       "      <td>AUS</td>\n",
       "      <td>5</td>\n",
       "      <td>3.38</td>\n",
       "      <td>NaN</td>\n",
       "      <td>61.35</td>\n",
       "      <td>8.98</td>\n",
       "      <td>5</td>\n",
       "      <td>39.88</td>\n",
       "      <td>73.00</td>\n",
       "      <td>Hamilton</td>\n",
       "      <td>83.43</td>\n",
       "    </tr>\n",
       "    <tr>\n",
       "      <th>4</th>\n",
       "      <td>48.75</td>\n",
       "      <td>39</td>\n",
       "      <td>Hokinoue, Kota</td>\n",
       "      <td>3</td>\n",
       "      <td>18.18</td>\n",
       "      <td>M</td>\n",
       "      <td>40.57</td>\n",
       "      <td>87.22</td>\n",
       "      <td>W3</td>\n",
       "      <td>NaN</td>\n",
       "      <td>JPN</td>\n",
       "      <td>3</td>\n",
       "      <td>3.33</td>\n",
       "      <td>NaN</td>\n",
       "      <td>59.92</td>\n",
       "      <td>8.92</td>\n",
       "      <td>3</td>\n",
       "      <td>38.55</td>\n",
       "      <td>71.68</td>\n",
       "      <td>Iizuka</td>\n",
       "      <td>81.88</td>\n",
       "    </tr>\n",
       "  </tbody>\n",
       "</table>"
      ],
      "text/plain": [
       "<IPython.core.display.HTML object>"
      ]
     },
     "metadata": {},
     "output_type": "display_data"
    },
    {
     "name": "stdout",
     "output_type": "stream",
     "text": [
      "==================================================\n",
      "Index(['25k', 'name', '10k', 'gender', 'half', 'bib', 'ctz', 'country',\n",
      "       'state', '30k', '5k', '20k', '35k', 'city', '40k'],\n",
      "      dtype='object')\n",
      "The number of non-numerical columns is 15\n",
      "==================================================\n",
      "Index(['age', 'division', 'official', 'overall', 'pace', 'genderdiv'], dtype='object')\n",
      "The number of numerical columns is 6\n",
      "==================================================\n",
      "missing data/column names....\n",
      "               0\n",
      "ctz        15407\n",
      "state       1463\n",
      "city           1\n",
      "40k            0\n",
      "bib            0\n",
      "age            0\n",
      "name           0\n",
      "division       0\n",
      "10k            0\n",
      "gender         0\n",
      "half           0\n",
      "official       0\n",
      "country        0\n",
      "overall        0\n",
      "pace           0\n",
      "30k            0\n",
      "5k             0\n",
      "genderdiv      0\n",
      "20k            0\n",
      "35k            0\n",
      "25k            0\n",
      "==================================================\n",
      "<class 'pandas.core.frame.DataFrame'>\n",
      "RangeIndex: 16164 entries, 0 to 16163\n",
      "Data columns (total 21 columns):\n",
      "25k          16164 non-null object\n",
      "age          16164 non-null int64\n",
      "name         16164 non-null object\n",
      "division     16164 non-null int64\n",
      "10k          16164 non-null object\n",
      "gender       16164 non-null object\n",
      "half         16164 non-null object\n",
      "official     16164 non-null float64\n",
      "bib          16164 non-null object\n",
      "ctz          757 non-null object\n",
      "country      16164 non-null object\n",
      "overall      16164 non-null int64\n",
      "pace         16164 non-null float64\n",
      "state        14701 non-null object\n",
      "30k          16164 non-null object\n",
      "5k           16164 non-null object\n",
      "genderdiv    16164 non-null int64\n",
      "20k          16164 non-null object\n",
      "35k          16164 non-null object\n",
      "city         16163 non-null object\n",
      "40k          16164 non-null object\n",
      "dtypes: float64(2), int64(4), object(15)\n",
      "memory usage: 2.6+ MB\n",
      "None\n",
      "==================================================\n",
      "                age      division      official       overall          pace  \\\n",
      "count  16164.000000  16164.000000  16164.000000  16164.000000  16164.000000   \n",
      "mean      41.638332   1100.967025    208.159470   8429.373422      7.947398   \n",
      "std       10.351311    942.114816     23.743608   5052.024116      0.905739   \n",
      "min       18.000000      1.000000     85.530000      1.000000      3.270000   \n",
      "25%       34.000000    363.000000    191.727500   4061.750000      7.320000   \n",
      "50%       42.000000    842.000000    209.225000   8247.500000      7.980000   \n",
      "75%       49.000000   1560.000000    225.230000  12662.250000      8.600000   \n",
      "max       80.000000   3834.000000    284.230000  17598.000000     10.850000   \n",
      "\n",
      "          genderdiv  \n",
      "count  16164.000000  \n",
      "mean    4351.684732  \n",
      "std     2772.398239  \n",
      "min        1.000000  \n",
      "25%     2032.750000  \n",
      "50%     4113.500000  \n",
      "75%     6316.000000  \n",
      "max    10648.000000  \n",
      "==================================================\n",
      "==================================================\n",
      "top 5 correlations\n",
      "           official\n",
      "official   1.000000\n",
      "pace       0.999981\n",
      "overall    0.974097\n",
      "genderdiv  0.744857\n",
      "age        0.369451\n",
      "==================================================\n"
     ]
    },
    {
     "data": {
      "image/png": "[encoded data removed]",
      "text/plain": [
       "<Figure size 432x288 with 1 Axes>"
      ]
     },
     "metadata": {
      "needs_background": "light"
     },
     "output_type": "display_data"
    }
   ],
   "source": [
    "df = pd.read_csv('results/2013/results.csv')\n",
    "\n",
    "basic_info.data_info(df, 'official')"
   ]
  },
  {
   "cell_type": "code",
   "execution_count": 45,
   "metadata": {},
   "outputs": [
    {
     "data": {
      "image/png": "[encoded data removed]",
      "text/plain": [
       "<Figure size 432x288 with 1 Axes>"
      ]
     },
     "metadata": {
      "needs_background": "light"
     },
     "output_type": "display_data"
    }
   ],
   "source": [
    "#Age is just a number? target variable == official\n",
    "\n",
    "X,y=df[['age','pace']],df[['official']] #set target variables\n",
    "\n",
    "X_norm = normalize(X) #normalize the data\n",
    "\n",
    "y_pred = KMeans(n_clusters=2, random_state=42).fit_predict(X_norm) #calculate the predicted values\n",
    "\n",
    "plt.scatter(X_norm[:,0],X_norm[:,1],c=y_pred) #plot x=age, y=pace\n",
    "plt.xlabel('age')\n",
    "plt.ylabel('pace')\n",
    "plt.show()"
   ]
  },
  {
   "cell_type": "code",
   "execution_count": 76,
   "metadata": {},
   "outputs": [
    {
     "data": {
      "image/png": "[encoded data removed]",
      "text/plain": [
       "<Figure size 432x288 with 1 Axes>"
      ]
     },
     "metadata": {
      "needs_background": "light"
     },
     "output_type": "display_data"
    },
    {
     "name": "stdout",
     "output_type": "stream",
     "text": [
      "col_0     0     1\n",
      "row_0            \n",
      "0      4335  7493\n",
      "1      1444  2892\n",
      "\n",
      "              precision    recall  f1-score   support\n",
      "\n",
      "           0       0.37      0.75      0.49      5779\n",
      "           1       0.67      0.28      0.39     10385\n",
      "\n",
      "    accuracy                           0.45     16164\n",
      "   macro avg       0.52      0.51      0.44     16164\n",
      "weighted avg       0.56      0.45      0.43     16164\n",
      "\n"
     ]
    }
   ],
   "source": [
    "X,y=df[['age','pace']],df['official'].apply(lambda x: 0 if x<200 else 1) #cutoff = 2:00\n",
    "\n",
    "X_norm=normalize(X)\n",
    "\n",
    "y_pred = KMeans(n_clusters=2, random_state=42).fit_predict(X_norm)\n",
    "\n",
    "plt.scatter(X_norm[:,0],X_norm[:,1],c=y_pred)\n",
    "plt.show()\n",
    "\n",
    "print(pd.crosstab(y_pred,y.values.ravel()))\n",
    "print('')\n",
    "print(classification_report(y.values.ravel(), y_pred))"
   ]
  },
  {
   "cell_type": "code",
   "execution_count": 77,
   "metadata": {},
   "outputs": [
    {
     "name": "stdout",
     "output_type": "stream",
     "text": [
      "col_0     0     1\n",
      "row_0            \n",
      "0      4390  7619\n",
      "1      1389  2766\n",
      "\n",
      "              precision    recall  f1-score   support\n",
      "\n",
      "           0       0.37      0.76      0.49      5779\n",
      "           1       0.67      0.27      0.38     10385\n",
      "\n",
      "    accuracy                           0.44     16164\n",
      "   macro avg       0.52      0.51      0.44     16164\n",
      "weighted avg       0.56      0.44      0.42     16164\n",
      "\n"
     ]
    }
   ],
   "source": [
    "minibatchkmeans = MiniBatchKMeans(init='random',n_clusters=2,batch_size=200)\n",
    "minibatchkmeans.fit(X_norm)\n",
    "\n",
    "predict_mini = minibatchkmeans.predict(X_norm)\n",
    "\n",
    "print(pd.crosstab(predict_mini,y.values.ravel()))\n",
    "print('')\n",
    "print(classification_report(y.values.ravel(), predict_mini))"
   ]
  },
  {
   "cell_type": "code",
   "execution_count": 79,
   "metadata": {},
   "outputs": [
    {
     "data": {
      "image/png": "[encoded data removed]",
      "text/plain": [
       "<Figure size 432x288 with 1 Axes>"
      ]
     },
     "metadata": {
      "needs_background": "light"
     },
     "output_type": "display_data"
    },
    {
     "name": "stdout",
     "output_type": "stream",
     "text": [
      "col_0     0     1\n",
      "row_0            \n",
      "0      2351  7121\n",
      "1      3428  3264\n",
      "\n",
      "              precision    recall  f1-score   support\n",
      "\n",
      "           0       0.25      0.41      0.31      5779\n",
      "           1       0.49      0.31      0.38     10385\n",
      "\n",
      "    accuracy                           0.35     16164\n",
      "   macro avg       0.37      0.36      0.35     16164\n",
      "weighted avg       0.40      0.35      0.36     16164\n",
      "\n"
     ]
    }
   ],
   "source": [
    "X,y=df[['age','division','official','pace','genderdiv']],df['official'].apply(lambda x: 0 if x<200 else 1)\n",
    "\n",
    "X_norm=normalize(X)\n",
    "\n",
    "X_pca=PCA(2).fit_transform(X_norm)\n",
    "\n",
    "y_pred=KMeans(n_clusters=2,random_state=42).fit_predict(X_pca)\n",
    "\n",
    "plt.scatter(X_pca[:,0],X_pca[:,1],c=y_pred)\n",
    "plt.xlabel('PCA1')\n",
    "plt.ylabel('PCA2')\n",
    "plt.title('')\n",
    "\n",
    "plt.show()\n",
    "\n",
    "print(pd.crosstab(y_pred,y.values.ravel()))\n",
    "print('')\n",
    "print(classification_report(y.values.ravel(), y_pred))"
   ]
  },
  {
   "cell_type": "code",
   "execution_count": null,
   "metadata": {},
   "outputs": [],
   "source": []
  }
 ],
 "metadata": {
  "kernelspec": {
   "display_name": "Python 3",
   "language": "python",
   "name": "python3"
  },
  "language_info": {
   "codemirror_mode": {
    "name": "ipython",
    "version": 3
   },
   "file_extension": ".py",
   "mimetype": "text/x-python",
   "name": "python",
   "nbconvert_exporter": "python",
   "pygments_lexer": "ipython3",
   "version": "3.7.5"
  }
 },
 "nbformat": 4,
 "nbformat_minor": 2
}
